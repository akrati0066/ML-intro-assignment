{
  "nbformat": 4,
  "nbformat_minor": 0,
  "metadata": {
    "colab": {
      "provenance": []
    },
    "kernelspec": {
      "name": "python3",
      "display_name": "Python 3"
    },
    "language_info": {
      "name": "python"
    }
  },
  "cells": [
    {
      "cell_type": "code",
      "execution_count": 1,
      "metadata": {
        "id": "1lVXbFlnlZ7J"
      },
      "outputs": [],
      "source": [
        "#Question 1: Explain the differences between AI, ML, Deep Learning (DL), and Data Science (DS).\n",
        "#Answer:\n",
        "#Artificial Intelligence (AI):\n",
        "#AI is a broad field of computer science focused on building systems that can mimic human intelligence, such as problem-solving, reasoning, learning, and decision-making. Example: Chatbots like Siri or Alexa.\n",
        "#Machine Learning (ML):\n",
        "#ML is a subset of AI where machines learn from data without being explicitly programmed. It uses algorithms to identify patterns and improve performance over time. Example: Spam email detection.\n",
        "#Deep Learning (DL):\n",
        "#DL is a subset of ML that uses artificial neural networks with many layers (deep networks) to process complex data such as images, speech, or natural language. Example: Face recognition in social media apps.\n",
        "#Data Science (DS):\n",
        "#Data Science is the practice of extracting knowledge and insights from structured and unstructured data using statistics, programming, and domain expertise. It may use AI/ML tools but is broader, focusing on data processing, visualization, and decision-making. Example: Analyzing customer behavior trends in e-commerce."
      ]
    },
    {
      "cell_type": "code",
      "source": [
        "#Question 2: What are the types of machine learning? Describe each with one real-world example.\n",
        "#Answer:\n",
        "#1. Supervised Learning:\n",
        "#The model is trained on labeled data (input-output pairs). It learns to predict the output from new inputs.\n",
        "#Example: Predicting house prices based on size and location.\n",
        "#2. Unsupervised Learning:\n",
        "#The model works with unlabeled data and tries to find hidden patterns or groupings.\n",
        "#Example: Customer segmentation in marketing (grouping customers based on buying habits).\n",
        "#3. Reinforcement Learning:\n",
        "#The model learns through trial and error by receiving rewards or penalties for actions.\n",
        "#Example: Training a robot to walk or AI playing games like chess.\n",
        "#4. Semi-Supervised Learning (optional, some syllabi include this):\n",
        "#The model is trained on a small amount of labeled data and a large amount of unlabeled data.\n",
        "#Example: Identifying medical images when only a few are labeled by doctors."
      ],
      "metadata": {
        "id": "4IQFTdvfmHyU"
      },
      "execution_count": 2,
      "outputs": []
    },
    {
      "cell_type": "code",
      "source": [
        "#Question 3: Define overfitting, underfitting, and the bias-variance tradeoff in machine learning.\n",
        "#Answer:\n",
        "#Overfitting:\n",
        "#Overfitting happens when a machine learning model learns not only the underlying patterns but also the noise in the training data. The model performs very well on training data but fails to generalize to new, unseen data.\n",
        "#Example: A decision tree that is too deep and memorizes training examples instead of learning general rules.\n",
        "#Underfitting:\n",
        "#Underfitting occurs when a model is too simple to capture the underlying patterns in the data. It performs poorly on both training and testing datasets because it has not learned enough.\n",
        "#Example: Using a linear model to fit non-linear data.\n",
        "#Bias-Variance Tradeoff:\n",
        "#In machine learning, bias is the error from overly simplistic models (leading to underfitting), while variance is the error from overly complex models (leading to overfitting). The bias-variance tradeoff is the balance between these two errors. The goal is to build a model that is complex enough to capture patterns (low bias) but not too complex that it learns noise (low variance), ensuring good generalization on new data."
      ],
      "metadata": {
        "id": "9bWGtaEBmW0D"
      },
      "execution_count": 3,
      "outputs": []
    },
    {
      "cell_type": "code",
      "source": [
        "#Question 4: What are outliers in a dataset, and list three common techniques for handling them.\n",
        "#Answer:\n",
        "#Outliers:\n",
        "#Outliers are data points that differ significantly from other observations in a dataset. They may occur due to variability in data, measurement errors, or unusual events. Outliers can distort statistical analysis and reduce the accuracy of machine learning models.\n",
        "#Common Techniques for Handling Outliers:\n",
        "#1. Removal of Outliers:\n",
        "#If outliers are due to errors or irrelevant data, they can be removed to improve model performance.\n",
        "#Example: Removing negative values for age in a dataset.\n",
        "\n",
        "#2. Transformation:\n",
        "#Applying mathematical transformations (like log, square root, or Box-Cox transformation) reduces the effect of extreme values.\n",
        "#Example: Using log transformation on highly skewed income data.\n",
        "\n",
        "#3. Capping (Winsorization):\n",
        "#Replacing extreme values with a certain percentile value (e.g., replacing values above the 95th percentile with the 95th percentile itself).\n",
        "#Example: Limiting extreme salaries in an employee dataset."
      ],
      "metadata": {
        "id": "AvC289Ybml7s"
      },
      "execution_count": 4,
      "outputs": []
    },
    {
      "cell_type": "code",
      "source": [
        "#Question 5: Explain the process of handling missing values and mention one imputation technique for numerical and one for categorical data.\n",
        "#Answer:\n",
        "#Handling Missing Values:\n",
        "#Missing values occur when no data is stored for a variable in an observation. If not handled properly, they can lead to biased analysis and reduce the performance of machine learning models. The process of handling missing values typically involves:\n",
        "\n",
        "#1. Identifying missing values in the dataset.\n",
        "#2. Analyzing the pattern and percentage of missing data (random or systematic).\n",
        "#3. Deciding whether to remove, replace, or impute the missing values.\n",
        "#4. Applying appropriate techniques based on the type of data and problem.\n",
        "\n",
        "#Imputation Techniques:\n",
        "#1. For Numerical Data:\n",
        "#Mean/Median Imputation: Replace missing values with the mean or median of the available data.\n",
        "#Example: If age is missing, replace it with the median age of the dataset.\n",
        "#2. For Categorical Data:\n",
        "#Mode Imputation: Replace missing values with the most frequent category (mode).\n",
        "#Example: If “Gender” is missing, fill it with the most common category (e.g., “Male” or “Female”).\n",
        "#This ensures the dataset remains consistent and usable for training models."
      ],
      "metadata": {
        "id": "6aW4J2xvm3X9"
      },
      "execution_count": 5,
      "outputs": []
    },
    {
      "cell_type": "code",
      "source": [
        "#Question 6: Write a Python program that creates a synthetic imbalanced dataset with make_classification() from sklearn.datasets and prints the class distribution.\n",
        "#Answer:\n",
        "from sklearn.datasets import make_classification\n",
        "import numpy as np\n",
        "import collections\n",
        "\n",
        "# Create imbalanced dataset\n",
        "X, y = make_classification(n_samples=1000,\n",
        "                           n_features=10,\n",
        "                           n_classes=2,\n",
        "                           n_informative=5,\n",
        "                           weights=[0.9, 0.1],  # 90% of class 0, 10% of class 1\n",
        "                           random_state=42)\n",
        "\n",
        "# Print class distribution\n",
        "class_distribution = collections.Counter(y)\n",
        "print(\"Class distribution:\", class_distribution)"
      ],
      "metadata": {
        "colab": {
          "base_uri": "https://localhost:8080/"
        },
        "id": "2UDcQxD2nSH4",
        "outputId": "2177b3e2-98c4-44f6-e36b-f04f9a188202"
      },
      "execution_count": 6,
      "outputs": [
        {
          "output_type": "stream",
          "name": "stdout",
          "text": [
            "Class distribution: Counter({np.int64(0): 896, np.int64(1): 104})\n"
          ]
        }
      ]
    },
    {
      "cell_type": "code",
      "source": [
        "#Question 7: Implement one-hot encoding using pandas for the following list of colors: ['Red', 'Green', 'Blue', 'Green', 'Red']. Print the resulting dataframe.\n",
        "#Answer:\n",
        "\n",
        "import pandas as pd\n",
        "\n",
        "# List of colors\n",
        "colors = ['Red', 'Green', 'Blue', 'Green', 'Red']\n",
        "\n",
        "# Create DataFrame\n",
        "df = pd.DataFrame(colors, columns=['Color'])\n",
        "\n",
        "# Apply One-Hot Encoding\n",
        "one_hot = pd.get_dummies(df['Color'])\n",
        "\n",
        "# Concatenate with original DataFrame (optional)\n",
        "df_encoded = pd.concat([df, one_hot], axis=1)\n",
        "\n",
        "# Print result\n",
        "print(df_encoded)"
      ],
      "metadata": {
        "colab": {
          "base_uri": "https://localhost:8080/"
        },
        "id": "-jLXkbqandfP",
        "outputId": "88a25071-e816-41d4-c3fb-9d14c95f82af"
      },
      "execution_count": 7,
      "outputs": [
        {
          "output_type": "stream",
          "name": "stdout",
          "text": [
            "   Color   Blue  Green    Red\n",
            "0    Red  False  False   True\n",
            "1  Green  False   True  False\n",
            "2   Blue   True  False  False\n",
            "3  Green  False   True  False\n",
            "4    Red  False  False   True\n"
          ]
        }
      ]
    },
    {
      "cell_type": "code",
      "source": [
        "#Question 8: Write a Python script to:\n",
        "#Generate 1000 samples from a normal distribution.\n",
        "#Introduce 50 random missing values.\n",
        "#Fill missing values with the column mean.\n",
        "#Plot a histogram before and after imputation.\n",
        "#Answer:\n",
        "\n",
        "import numpy as np\n",
        "import pandas as pd\n",
        "import matplotlib.pyplot as plt\n",
        "\n",
        "# Step 1: Generate 1000 samples from a normal distribution\n",
        "data = np.random.randn(1000)\n",
        "\n",
        "# Step 2: Convert to DataFrame\n",
        "df = pd.DataFrame(data, columns=['Value'])\n",
        "\n",
        "# Step 3: Introduce 50 random missing values\n",
        "nan_indices = np.random.choice(df.index, size=50, replace=False)\n",
        "df.loc[nan_indices, 'Value'] = np.nan\n",
        "\n",
        "# Step 4: Plot histogram before imputation\n",
        "plt.hist(df['Value'].dropna(), bins=30, alpha=0.7, label=\"Before Imputation\")\n",
        "plt.legend()\n",
        "plt.title(\"Histogram Before Imputation\")\n",
        "plt.show()\n",
        "\n",
        "# Step 5: Fill missing values with column mean\n",
        "mean_value = df['Value'].mean()\n",
        "df['Value'].fillna(mean_value, inplace=True)\n",
        "\n",
        "# Step 6: Plot histogram after imputation\n",
        "plt.hist(df['Value'], bins=30, alpha=0.7, color='orange', label=\"After Imputation\")\n",
        "plt.legend()\n",
        "plt.title(\"Histogram After Imputation\")\n",
        "plt.show()"
      ],
      "metadata": {
        "colab": {
          "base_uri": "https://localhost:8080/",
          "height": 1000
        },
        "id": "yogqdiILni0W",
        "outputId": "7e546138-160b-4d51-f14b-4846d366e754"
      },
      "execution_count": 8,
      "outputs": [
        {
          "output_type": "display_data",
          "data": {
            "text/plain": [
              "<Figure size 640x480 with 1 Axes>"
            ],
            "image/png": "[encoded data removed]"
          },
          "metadata": {}
        },
        {
          "output_type": "stream",
          "name": "stderr",
          "text": [
            "/tmp/ipython-input-3166301168.py:30: FutureWarning: A value is trying to be set on a copy of a DataFrame or Series through chained assignment using an inplace method.\n",
            "The behavior will change in pandas 3.0. This inplace method will never work because the intermediate object on which we are setting values always behaves as a copy.\n",
            "\n",
            "For example, when doing 'df[col].method(value, inplace=True)', try using 'df.method({col: value}, inplace=True)' or df[col] = df[col].method(value) instead, to perform the operation inplace on the original object.\n",
            "\n",
            "\n",
            "  df['Value'].fillna(mean_value, inplace=True)\n"
          ]
        },
        {
          "output_type": "display_data",
          "data": {
            "text/plain": [
              "<Figure size 640x480 with 1 Axes>"
            ],
            "image/png": "[encoded data removed]"
          },
          "metadata": {}
        }
      ]
    },
    {
      "cell_type": "code",
      "source": [
        "#Question 9: Implement Min-Max scaling on the following list of numbers [2, 5, 10, 15,20] using sklearn.preprocessing.MinMaxScaler. Print the scaled array.\n",
        "#Answer\n",
        "import numpy as np\n",
        "from sklearn.preprocessing import MinMaxScaler\n",
        "\n",
        "# Original data\n",
        "data = np.array([2, 5, 10, 15, 20]).reshape(-1, 1)\n",
        "\n",
        "# Apply Min-Max Scaling\n",
        "scaler = MinMaxScaler()\n",
        "scaled_data = scaler.fit_transform(data)\n",
        "\n",
        "print(\"Original Data:\\n\", data.flatten())\n",
        "print(\"Scaled Data:\\n\", scaled_data.flatten())"
      ],
      "metadata": {
        "colab": {
          "base_uri": "https://localhost:8080/"
        },
        "id": "SPz3QdGfnuJo",
        "outputId": "6fd5a43f-dc02-4f97-f1c9-988b5db687bb"
      },
      "execution_count": 9,
      "outputs": [
        {
          "output_type": "stream",
          "name": "stdout",
          "text": [
            "Original Data:\n",
            " [ 2  5 10 15 20]\n",
            "Scaled Data:\n",
            " [0.         0.16666667 0.44444444 0.72222222 1.        ]\n"
          ]
        }
      ]
    },
    {
      "cell_type": "code",
      "source": [
        "#Question 10: You are working as a data scientist for a retail company. You receive a customer transaction dataset that contains:\n",
        "#● Missing ages,\n",
        "#● Outliers in transaction amount,\n",
        "#● A highly imbalanced target (fraud vs. non-fraud),\n",
        "#● Categorical variables like payment method.\n",
        "#Explain the step-by-step data preparation plan you’d follow before training a machine learning model. Include how you’d address missing data, outliers, imbalance, and encoding.\n",
        "\n",
        "import pandas as pd\n",
        "from sklearn.impute import SimpleImputer\n",
        "\n",
        "# Example dataset\n",
        "data = pd.DataFrame({\n",
        "    'age': [25, 32, None, 40, None],\n",
        "    'transaction_amount': [200, 5000, 150, 300, 100000],\n",
        "    'payment_method': ['card', 'cash', 'online', 'card', 'cash'],\n",
        "    'fraud': [0, 0, 1, 0, 1]\n",
        "})\n",
        "\n",
        "# Impute missing ages with median\n",
        "imputer = SimpleImputer(strategy='median')\n",
        "data['age'] = imputer.fit_transform(data[['age']])\n",
        "\n",
        "import numpy as np\n",
        "\n",
        "# Log transform transaction_amount to reduce skewness\n",
        "data['transaction_amount'] = np.log1p(data['transaction_amount'])\n",
        "\n",
        "\n",
        "from imblearn.over_sampling import SMOTE\n",
        "\n",
        "X = data.drop('fraud', axis=1)\n",
        "y = data['fraud']\n",
        "\n",
        "# For categorical encoding before SMOTE\n",
        "X = pd.get_dummies(X, drop_first=True)\n",
        "\n",
        "# Apply SMOTE\n",
        "sm = SMOTE(random_state=42)\n",
        "X_res, y_res = sm.fit_resample(X, y)\n",
        "\n",
        "\n",
        "\n",
        "\n",
        "# One-hot encoding already done above with get_dummies\n",
        "print(X_res.head())"
      ],
      "metadata": {
        "colab": {
          "base_uri": "https://localhost:8080/",
          "height": 356
        },
        "id": "qqZefvgkn4pV",
        "outputId": "322e209e-114b-4063-baae-602cfbabdff6"
      },
      "execution_count": 13,
      "outputs": [
        {
          "output_type": "error",
          "ename": "ValueError",
          "evalue": "Expected n_neighbors <= n_samples_fit, but n_neighbors = 6, n_samples_fit = 2, n_samples = 2",
          "traceback": [
            "\u001b[0;31m---------------------------------------------------------------------------\u001b[0m",
            "\u001b[0;31mValueError\u001b[0m                                Traceback (most recent call last)",
            "\u001b[0;32m/tmp/ipython-input-733015959.py\u001b[0m in \u001b[0;36m<cell line: 0>\u001b[0;34m()\u001b[0m\n\u001b[1;32m     37\u001b[0m \u001b[0;31m# Apply SMOTE\u001b[0m\u001b[0;34m\u001b[0m\u001b[0;34m\u001b[0m\u001b[0m\n\u001b[1;32m     38\u001b[0m \u001b[0msm\u001b[0m \u001b[0;34m=\u001b[0m \u001b[0mSMOTE\u001b[0m\u001b[0;34m(\u001b[0m\u001b[0mrandom_state\u001b[0m\u001b[0;34m=\u001b[0m\u001b[0;36m42\u001b[0m\u001b[0;34m)\u001b[0m\u001b[0;34m\u001b[0m\u001b[0;34m\u001b[0m\u001b[0m\n\u001b[0;32m---> 39\u001b[0;31m \u001b[0mX_res\u001b[0m\u001b[0;34m,\u001b[0m \u001b[0my_res\u001b[0m \u001b[0;34m=\u001b[0m \u001b[0msm\u001b[0m\u001b[0;34m.\u001b[0m\u001b[0mfit_resample\u001b[0m\u001b[0;34m(\u001b[0m\u001b[0mX\u001b[0m\u001b[0;34m,\u001b[0m \u001b[0my\u001b[0m\u001b[0;34m)\u001b[0m\u001b[0;34m\u001b[0m\u001b[0;34m\u001b[0m\u001b[0m\n\u001b[0m\u001b[1;32m     40\u001b[0m \u001b[0;34m\u001b[0m\u001b[0m\n\u001b[1;32m     41\u001b[0m \u001b[0;34m\u001b[0m\u001b[0m\n",
            "\u001b[0;32m/usr/local/lib/python3.12/dist-packages/imblearn/base.py\u001b[0m in \u001b[0;36mfit_resample\u001b[0;34m(self, X, y, **params)\u001b[0m\n\u001b[1;32m    200\u001b[0m             \u001b[0mThe\u001b[0m \u001b[0mcorresponding\u001b[0m \u001b[0mlabel\u001b[0m \u001b[0mof\u001b[0m\u001b[0;31m \u001b[0m\u001b[0;31m`\u001b[0m\u001b[0mX_resampled\u001b[0m\u001b[0;31m`\u001b[0m\u001b[0;34m.\u001b[0m\u001b[0;34m\u001b[0m\u001b[0;34m\u001b[0m\u001b[0m\n\u001b[1;32m    201\u001b[0m         \"\"\"\n\u001b[0;32m--> 202\u001b[0;31m         \u001b[0;32mreturn\u001b[0m \u001b[0msuper\u001b[0m\u001b[0;34m(\u001b[0m\u001b[0;34m)\u001b[0m\u001b[0;34m.\u001b[0m\u001b[0mfit_resample\u001b[0m\u001b[0;34m(\u001b[0m\u001b[0mX\u001b[0m\u001b[0;34m,\u001b[0m \u001b[0my\u001b[0m\u001b[0;34m,\u001b[0m \u001b[0;34m**\u001b[0m\u001b[0mparams\u001b[0m\u001b[0;34m)\u001b[0m\u001b[0;34m\u001b[0m\u001b[0;34m\u001b[0m\u001b[0m\n\u001b[0m\u001b[1;32m    203\u001b[0m \u001b[0;34m\u001b[0m\u001b[0m\n\u001b[1;32m    204\u001b[0m     \u001b[0;32mdef\u001b[0m \u001b[0m_more_tags\u001b[0m\u001b[0;34m(\u001b[0m\u001b[0mself\u001b[0m\u001b[0;34m)\u001b[0m\u001b[0;34m:\u001b[0m\u001b[0;34m\u001b[0m\u001b[0;34m\u001b[0m\u001b[0m\n",
            "\u001b[0;32m/usr/local/lib/python3.12/dist-packages/sklearn/base.py\u001b[0m in \u001b[0;36mwrapper\u001b[0;34m(estimator, *args, **kwargs)\u001b[0m\n\u001b[1;32m   1387\u001b[0m                 )\n\u001b[1;32m   1388\u001b[0m             ):\n\u001b[0;32m-> 1389\u001b[0;31m                 \u001b[0;32mreturn\u001b[0m \u001b[0mfit_method\u001b[0m\u001b[0;34m(\u001b[0m\u001b[0mestimator\u001b[0m\u001b[0;34m,\u001b[0m \u001b[0;34m*\u001b[0m\u001b[0margs\u001b[0m\u001b[0;34m,\u001b[0m \u001b[0;34m**\u001b[0m\u001b[0mkwargs\u001b[0m\u001b[0;34m)\u001b[0m\u001b[0;34m\u001b[0m\u001b[0;34m\u001b[0m\u001b[0m\n\u001b[0m\u001b[1;32m   1390\u001b[0m \u001b[0;34m\u001b[0m\u001b[0m\n\u001b[1;32m   1391\u001b[0m         \u001b[0;32mreturn\u001b[0m \u001b[0mwrapper\u001b[0m\u001b[0;34m\u001b[0m\u001b[0;34m\u001b[0m\u001b[0m\n",
            "\u001b[0;32m/usr/local/lib/python3.12/dist-packages/imblearn/base.py\u001b[0m in \u001b[0;36mfit_resample\u001b[0;34m(self, X, y, **params)\u001b[0m\n\u001b[1;32m    103\u001b[0m         )\n\u001b[1;32m    104\u001b[0m \u001b[0;34m\u001b[0m\u001b[0m\n\u001b[0;32m--> 105\u001b[0;31m         \u001b[0moutput\u001b[0m \u001b[0;34m=\u001b[0m \u001b[0mself\u001b[0m\u001b[0;34m.\u001b[0m\u001b[0m_fit_resample\u001b[0m\u001b[0;34m(\u001b[0m\u001b[0mX\u001b[0m\u001b[0;34m,\u001b[0m \u001b[0my\u001b[0m\u001b[0;34m,\u001b[0m \u001b[0;34m**\u001b[0m\u001b[0mparams\u001b[0m\u001b[0;34m)\u001b[0m\u001b[0;34m\u001b[0m\u001b[0;34m\u001b[0m\u001b[0m\n\u001b[0m\u001b[1;32m    106\u001b[0m \u001b[0;34m\u001b[0m\u001b[0m\n\u001b[1;32m    107\u001b[0m         y_ = (\n",
            "\u001b[0;32m/usr/local/lib/python3.12/dist-packages/imblearn/over_sampling/_smote/base.py\u001b[0m in \u001b[0;36m_fit_resample\u001b[0;34m(self, X, y)\u001b[0m\n\u001b[1;32m    357\u001b[0m \u001b[0;34m\u001b[0m\u001b[0m\n\u001b[1;32m    358\u001b[0m             \u001b[0mself\u001b[0m\u001b[0;34m.\u001b[0m\u001b[0mnn_k_\u001b[0m\u001b[0;34m.\u001b[0m\u001b[0mfit\u001b[0m\u001b[0;34m(\u001b[0m\u001b[0mX_class\u001b[0m\u001b[0;34m)\u001b[0m\u001b[0;34m\u001b[0m\u001b[0;34m\u001b[0m\u001b[0m\n\u001b[0;32m--> 359\u001b[0;31m             \u001b[0mnns\u001b[0m \u001b[0;34m=\u001b[0m \u001b[0mself\u001b[0m\u001b[0;34m.\u001b[0m\u001b[0mnn_k_\u001b[0m\u001b[0;34m.\u001b[0m\u001b[0mkneighbors\u001b[0m\u001b[0;34m(\u001b[0m\u001b[0mX_class\u001b[0m\u001b[0;34m,\u001b[0m \u001b[0mreturn_distance\u001b[0m\u001b[0;34m=\u001b[0m\u001b[0;32mFalse\u001b[0m\u001b[0;34m)\u001b[0m\u001b[0;34m[\u001b[0m\u001b[0;34m:\u001b[0m\u001b[0;34m,\u001b[0m \u001b[0;36m1\u001b[0m\u001b[0;34m:\u001b[0m\u001b[0;34m]\u001b[0m\u001b[0;34m\u001b[0m\u001b[0;34m\u001b[0m\u001b[0m\n\u001b[0m\u001b[1;32m    360\u001b[0m             X_new, y_new = self._make_samples(\n\u001b[1;32m    361\u001b[0m                 \u001b[0mX_class\u001b[0m\u001b[0;34m,\u001b[0m \u001b[0my\u001b[0m\u001b[0;34m.\u001b[0m\u001b[0mdtype\u001b[0m\u001b[0;34m,\u001b[0m \u001b[0mclass_sample\u001b[0m\u001b[0;34m,\u001b[0m \u001b[0mX_class\u001b[0m\u001b[0;34m,\u001b[0m \u001b[0mnns\u001b[0m\u001b[0;34m,\u001b[0m \u001b[0mn_samples\u001b[0m\u001b[0;34m,\u001b[0m \u001b[0;36m1.0\u001b[0m\u001b[0;34m\u001b[0m\u001b[0;34m\u001b[0m\u001b[0m\n",
            "\u001b[0;32m/usr/local/lib/python3.12/dist-packages/sklearn/neighbors/_base.py\u001b[0m in \u001b[0;36mkneighbors\u001b[0;34m(self, X, n_neighbors, return_distance)\u001b[0m\n\u001b[1;32m    852\u001b[0m             \u001b[0;32melse\u001b[0m\u001b[0;34m:\u001b[0m\u001b[0;34m\u001b[0m\u001b[0;34m\u001b[0m\u001b[0m\n\u001b[1;32m    853\u001b[0m                 \u001b[0minequality_str\u001b[0m \u001b[0;34m=\u001b[0m \u001b[0;34m\"n_neighbors <= n_samples_fit\"\u001b[0m\u001b[0;34m\u001b[0m\u001b[0;34m\u001b[0m\u001b[0m\n\u001b[0;32m--> 854\u001b[0;31m             raise ValueError(\n\u001b[0m\u001b[1;32m    855\u001b[0m                 \u001b[0;34mf\"Expected {inequality_str}, but \"\u001b[0m\u001b[0;34m\u001b[0m\u001b[0;34m\u001b[0m\u001b[0m\n\u001b[1;32m    856\u001b[0m                 \u001b[0;34mf\"n_neighbors = {n_neighbors}, n_samples_fit = {n_samples_fit}, \"\u001b[0m\u001b[0;34m\u001b[0m\u001b[0;34m\u001b[0m\u001b[0m\n",
            "\u001b[0;31mValueError\u001b[0m: Expected n_neighbors <= n_samples_fit, but n_neighbors = 6, n_samples_fit = 2, n_samples = 2"
          ]
        }
      ]
    }
  ]
}